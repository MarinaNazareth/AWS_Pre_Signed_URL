{
 "cells": [
  {
   "cell_type": "code",
   "execution_count": null,
   "id": "1351e84b",
   "metadata": {},
   "outputs": [],
   "source": [
    "import boto3\n",
    "import pandas as pd\n",
    "from io import BytesIO\n",
    "import os\n",
    "from datetime import datetime\n",
    "import re\n",
    "import pyarrow as pa\n",
    "from dotenv import load_dotenv\n",
    "import mysql.connector\n",
    "from mysql.connector import connection"
   ]
  },
  {
   "cell_type": "code",
   "execution_count": null,
   "id": "bef9e3f9",
   "metadata": {},
   "outputs": [],
   "source": [
    "df = pd.read_csv(r\"C:\\Users\\documentos-estruturados\\list.csv\")\n",
    "df = df[['Id']]\n",
    "df = df.drop_duplicates(subset=['Id'])"
   ]
  },
  {
   "cell_type": "code",
   "execution_count": null,
   "id": "ab7c957e",
   "metadata": {},
   "outputs": [],
   "source": [
    "df_contagem = pd.read_csv(r\"C:\\Users\\documentos-estruturados\\list.csv\")\n",
    "df_contagem = df_contagem[['Id']]\n",
    "contagem = df_contagem[['Id']].value_counts().reset_index()\n",
    "contagem.columns = ['Id', 'QuantidadeDocumentos']\n",
    "df_contagem = df_contagem.merge(contagem, on='Id', how='left')\n",
    "df_contagem = df_contagem.drop_duplicates(subset='Id')\n",
    "df_contagem.to_excel(\"contagem.xlsx\")"
   ]
  },
  {
   "cell_type": "code",
   "execution_count": null,
   "id": "de94e54a",
   "metadata": {},
   "outputs": [],
   "source": [
    "#conexao banco\n",
    "\n",
    "conn = connection.MySQLConnection(user='x', password ='x', host ='x', database = \" x\")\n",
    "cursor = conn.cursor()\n"
   ]
  },
  {
   "cell_type": "code",
   "execution_count": null,
   "id": "40413ece",
   "metadata": {},
   "outputs": [],
   "source": [
    "\n",
    "# Lista para armazenar os resultados das consultas exames\n",
    "\n",
    "resultados = []\n",
    "\n",
    "# Iterar pelos IDs no DataFrame\n",
    "for _, row in df.iterrows():\n",
    "    id_procurado = row['Id']\n",
    "    comando = f\"query para localizar os dados procurados = {id_procurado}\"\n",
    "    cursor.execute(comando)\n",
    "    \n",
    "    # Executar a consulta SQL e carregar os resultados em um DataFrame\n",
    "    df_resultado = pd.DataFrame(cursor.fetchall(), columns=[desc[0] for desc in cursor.description])\n",
    "    \n",
    "    # Verifique se há resultados e os adicione à lista\n",
    "    if not df_resultado.empty:\n",
    "        resultados.append(df_resultado)\n",
    "\n"
   ]
  },
  {
   "cell_type": "code",
   "execution_count": null,
   "id": "bf41c0b4",
   "metadata": {},
   "outputs": [],
   "source": [
    "# Concatenar os resultados em um único DataFrame, se necessário\n",
    "if resultados:\n",
    "    df_exames = pd.concat(resultados, ignore_index=True)\n",
    "    print(df_exames)\n",
    "else:\n",
    "    print(\"Nenhum resultado encontrado para os IDs fornecidos.\")"
   ]
  },
  {
   "cell_type": "code",
   "execution_count": null,
   "id": "c60881b8",
   "metadata": {},
   "outputs": [],
   "source": [
    "#lista de atestados\n",
    "resultados = []\n",
    "\n",
    "# Iterar pelos IDs no DataFrame\n",
    "for _, row in df.iterrows():\n",
    "    id_procurado = row['Id']\n",
    "    comando = f\"query para localizar os dados procurados  = {id_procurado}\"\n",
    "    cursor.execute(comando)\n",
    "    \n",
    "    # Executar a consulta SQL e carregar os resultados em um DataFrame\n",
    "    df_resultado = pd.DataFrame(cursor.fetchall(), columns=[desc[0] for desc in cursor.description])\n",
    "    \n",
    "    # Verifique se há resultados e os adicione à lista\n",
    "    if not df_resultado.empty:\n",
    "        resultados.append(df_resultado)"
   ]
  },
  {
   "cell_type": "code",
   "execution_count": null,
   "id": "8bbde225",
   "metadata": {},
   "outputs": [],
   "source": [
    "# Concatenar os resultados em um único DataFrame, se necessário\n",
    "if resultados:\n",
    "    df_atestado = pd.concat(resultados, ignore_index=True)\n",
    "    print(df_atestado)\n",
    "else:\n",
    "    print(\"Nenhum resultado encontrado para os IDs fornecidos.\")"
   ]
  },
  {
   "cell_type": "code",
   "execution_count": null,
   "id": "7b0a24ef",
   "metadata": {},
   "outputs": [],
   "source": [
    "#lista de medicamentos\n",
    "resultados = []\n",
    "\n",
    "# Iterar pelos IDs no DataFrame\n",
    "for _, row in df.iterrows():\n",
    "    id_procurado = row['Id']\n",
    "    comando = f\"query para localizar os dados procurados  = {id_procurado}\"\n",
    "    cursor.execute(comando)\n",
    "    \n",
    "    # Executar a consulta SQL e carregar os resultados em um DataFrame\n",
    "    df_resultado = pd.DataFrame(cursor.fetchall(), columns=[desc[0] for desc in cursor.description])\n",
    "    \n",
    "    # Verifique se há resultados e os adicione à lista\n",
    "    if not df_resultado.empty:\n",
    "        resultados.append(df_resultado)"
   ]
  },
  {
   "cell_type": "code",
   "execution_count": null,
   "id": "e63cf013",
   "metadata": {},
   "outputs": [],
   "source": [
    "# Concatenar os resultados em um único DataFrame, se necessário \n",
    "if resultados:\n",
    "    df_prescricoes = pd.concat(resultados, ignore_index=True)\n",
    "    print(df_prescricoes)\n",
    "else:\n",
    "    print(\"Nenhum resultado encontrado para os IDs fornecidos.\")"
   ]
  },
  {
   "cell_type": "code",
   "execution_count": null,
   "id": "4cebf57e",
   "metadata": {},
   "outputs": [],
   "source": [
    "df_atestado['TipoDocumento'] = 'Atestado'\n",
    "df_exames['TipoDocumento'] = 'Exame'\n",
    "df_prescricoes['TipoDocumento'] = 'Medicamentos'"
   ]
  },
  {
   "cell_type": "code",
   "execution_count": null,
   "id": "db9697f6",
   "metadata": {},
   "outputs": [],
   "source": [
    "load_dotenv()\n",
    "config = {\n",
    "    \"bucket\": os.getenv('bucket'),\n",
    "    \"path\": os.getenv('path')\n",
    "}"
   ]
  },
  {
   "cell_type": "code",
   "execution_count": null,
   "id": "3d2fd3fa",
   "metadata": {},
   "outputs": [],
   "source": [
    "#login para acessar aws\n",
    "from decouple import config\n",
    "\n",
    "aws_access_key_id = os.environ['AWS_ACCESS_KEY_ID']\n",
    "aws_secret_access_key = os.environ['AWS_SECRET_ACCESS_KEY']\n",
    "\n",
    "\n",
    "\n",
    "s3 = boto3.client('s3', aws_access_key_id=aws_access_key_id, aws_secret_access_key=aws_secret_access_key)"
   ]
  },
  {
   "cell_type": "code",
   "execution_count": null,
   "id": "3a9680e3",
   "metadata": {},
   "outputs": [],
   "source": [
    "import boto3\n",
    "\n",
    "def list_objects_in_bucket(bucket_name):\n",
    "    s3_client = boto3.client('s3')\n",
    "    response = s3_client.list_objects(Bucket=bucket_name)\n",
    "    \n",
    "    print(f'Objetos no bucket {bucket_name}:')\n",
    "    for obj in response.get('Contents', []):\n",
    "        print(obj['Key'])\n",
    "\n",
    "# Substitua 'nome_do_seu_bucket' pelo nome do bucket que você deseja listar.\n",
    "list_objects_in_bucket('bucket')\n"
   ]
  },
  {
   "cell_type": "code",
   "execution_count": null,
   "id": "d2989186",
   "metadata": {},
   "outputs": [],
   "source": [
    "# Prefixo do diretório que você deseja encontrar - aqui só retorna os 1000 primeiros\n",
    "bucket_origem= 'bucket_origem'\n",
    "diretorio_origem = 'diretorio_origem/'\n",
    "\n",
    "# Lista os objetos no bucket\n",
    "response = s3.list_objects_v2(Bucket=bucket_origem)\n",
    "\n",
    "# Itera sobre os objetos encontrados\n",
    "for obj in response.get('Contents', []):\n",
    "    objeto_key = obj['Key']\n",
    "    \n",
    "    # Verifica se o objeto é um diretório procurado\n",
    "    if objeto_key.startswith(diretorio_origem):\n",
    "        print(f\"Diretório encontrado: {objeto_key}\")"
   ]
  },
  {
   "cell_type": "code",
   "execution_count": null,
   "id": "6f3c000f",
   "metadata": {},
   "outputs": [],
   "source": [
    "#retornar todos\n",
    "def list_all_objects(bucket_name, prefix):\n",
    "    s3_client = boto3.client('s3')\n",
    "    continuation_token = None\n",
    "    all_files = []\n",
    "    while True:\n",
    "        list_kwargs = {\n",
    "            'Bucket': bucket_name,\n",
    "            'Prefix': prefix,\n",
    "        }\n",
    "        # Se temos um continuation token, adicionamos ao pedido\n",
    "        if continuation_token:\n",
    "            list_kwargs['ContinuationToken'] = continuation_token\n",
    "        # Fazemos o pedido para listar os objetos\n",
    "        response = s3_client.list_objects_v2(**list_kwargs)\n",
    "        # Adicionamos os objetos retornados à nossa lista\n",
    "        all_files.extend(response.get('Contents', []))\n",
    "        # Se não houver mais objetos, paramos o loop\n",
    "        if not response.get('IsTruncated'):\n",
    "            break\n",
    "        # Senão, atualizamos o continuation token para a próxima iteração\n",
    "        continuation_token = response.get('NextContinuationToken')\n",
    "    return [file['Key'] for file in all_files]\n",
    "# Uso\n",
    "bucket_name = 'bucket_name'\n",
    "prefix = 'prefix/'\n",
    "files = list_all_objects(bucket_name, prefix)\n",
    "print(files)"
   ]
  },
  {
   "cell_type": "code",
   "execution_count": null,
   "id": "b4eedeef",
   "metadata": {},
   "outputs": [],
   "source": [
    "import logging\n",
    "import boto3\n",
    "from botocore.exceptions import ClientError\n",
    "\n",
    "\n",
    "def create_presigned_url(bucket_name, object_name, expiration=259200):\n",
    "\n",
    "    # Generate a presigned URL for the S3 object\n",
    "    s3_client = boto3.client('s3')\n",
    "    try:\n",
    "        response = s3_client.generate_presigned_url('get_object',\n",
    "                                                    Params={'Bucket': bucket_name,\n",
    "                                                            'Key': object_name},\n",
    "                                                    ExpiresIn=expiration)\n",
    "    except ClientError as e:\n",
    "        logging.error(e)\n",
    "        return None\n",
    "\n",
    "    # The response contains the presigned URL\n",
    "    return response"
   ]
  },
  {
   "cell_type": "code",
   "execution_count": null,
   "id": "cff34eab",
   "metadata": {},
   "outputs": [],
   "source": [
    "#exames\n",
    "\n",
    "if resultados:\n",
    "    \n",
    "    # Adicionar a coluna 'x' com URLs assinadas\n",
    "    df_exames['Pre_signed'] = df_exames.apply(lambda row: create_presigned_url(bucket_name, 'Exame/' + row['URL']), axis=1)\n",
    "    \n",
    "    \n",
    "    print(\"DataFrame salvo com URLs assinadas.\")\n",
    "else:\n",
    "    print(\"Nenhum resultado encontrado para os IDs fornecidos.\")"
   ]
  },
  {
   "cell_type": "code",
   "execution_count": null,
   "id": "04ac8112",
   "metadata": {},
   "outputs": [],
   "source": [
    "#atestado\n",
    "if resultados:\n",
    "    \n",
    "    # Adicionar a coluna 'x' com URLs assinadas\n",
    "    df_atestado['Pre_signed'] = df_atestado.apply(lambda row: create_presigned_url(bucket_name, 'Atestado/' + row['URL']), axis=1)\n",
    "    \n",
    "    \n",
    "    print(\"DataFrame salvo com URLs assinadas.\")\n",
    "else:\n",
    "    print(\"Nenhum resultado encontrado para os IDs fornecidos.\")"
   ]
  },
  {
   "cell_type": "code",
   "execution_count": null,
   "id": "e030b187",
   "metadata": {},
   "outputs": [],
   "source": [
    "#prescricoes\n",
    "\n",
    "if resultados:\n",
    "    \n",
    "    # Adicionar a coluna 'x' com URLs assinadas\n",
    "    df_prescricoes['Pre_signed'] = df_prescricoes.apply(lambda row: create_presigned_url(bucket_name, 'Prescricao/' + row['URL']), axis=1)\n",
    "    \n",
    "    \n",
    "    print(\"DataFrame salvo com URLs assinadas.\")\n",
    "else:\n",
    "    print(\"Nenhum resultado encontrado para os IDs fornecidos.\")"
   ]
  },
  {
   "cell_type": "code",
   "execution_count": null,
   "id": "55e1a86e",
   "metadata": {},
   "outputs": [],
   "source": [
    "dataframes = [df_laudo, df_encaminhamento, df_atestado, df_exames,df_prescricoes]\n",
    "df_final = pd.concat(dataframes, ignore_index=True)\n",
    "df_final = df_final[['idPrescricao','TipoDocumento','Pre_signed']]\n",
    "df_final = df_final.rename(columns={'idPrescricao': 'Id', 'Pre_signed': 'DocURL '})\n",
    "df_final.to_csv(\"Prescricoes.csv\",index=False)"
   ]
  }
 ],
 "metadata": {
  "kernelspec": {
   "display_name": "Python 3 (ipykernel)",
   "language": "python",
   "name": "python3"
  },
  "language_info": {
   "codemirror_mode": {
    "name": "ipython",
    "version": 3
   },
   "file_extension": ".py",
   "mimetype": "text/x-python",
   "name": "python",
   "nbconvert_exporter": "python",
   "pygments_lexer": "ipython3",
   "version": "3.10.9"
  }
 },
 "nbformat": 4,
 "nbformat_minor": 5
}
